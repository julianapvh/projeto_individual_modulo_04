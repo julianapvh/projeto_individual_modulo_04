{
  "nbformat": 4,
  "nbformat_minor": 0,
  "metadata": {
    "colab": {
      "provenance": [],
      "mount_file_id": "1u9bFkAAJR_KPZdUj6wB8sDvbP4Fht9ao",
      "authorship_tag": "ABX9TyO5DhpiOeig9sJaLieT7hO7",
      "include_colab_link": true
    },
    "kernelspec": {
      "name": "python3",
      "display_name": "Python 3"
    },
    "language_info": {
      "name": "python"
    }
  },
  "cells": [
    {
      "cell_type": "markdown",
      "metadata": {
        "id": "view-in-github",
        "colab_type": "text"
      },
      "source": [
        "<a href=\"https://colab.research.google.com/github/julianapvh/projeto_individual_modulo_04/blob/main/projeto_individual.ipynb\" target=\"_parent\"><img src=\"https://colab.research.google.com/assets/colab-badge.svg\" alt=\"Open In Colab\"/></a>"
      ]
    },
    {
      "cell_type": "markdown",
      "source": [
        "# <font color = orange> **_Projeto Individual Módulo 04_**"
      ],
      "metadata": {
        "id": "VACHUOJ6L7-l"
      }
    },
    {
      "cell_type": "markdown",
      "source": [
        "# <font color = orange> **_CONTEXTO_**\n",
        "\n",
        "#### Uma empresa de desenvolvimento de softwares possui uma tabela com os seguintes dados ao lado e deseja um RELATÓRIO que você irá ajudar a construir! Este relatório tem o objetivo de demonstrar a importância da análise dos dados de um projeto de desenvolvimento de software ao longo de uma semana. Os dados fornecidos permitirão ao proprietário da equipe de desenvolvimento obter insights sobre o progresso do projeto, identificar possíveis áreas de melhoria e tomar decisões informadas para garantir o sucesso do projeto.\n",
        "# <font color = orange> **_O QUE É PARA FAZER?_**\n",
        "#### Gerar um relatório de progresso diário para mostrar o quão produtivo está sendo o trabalho dos funcionários e incluir no relatório outros itens como:\n",
        "\n",
        "- Total de Horas Trabalhadas\n",
        "- Média Diária de Horas Trabalhadas\n",
        "- Total de Bugs Corrigidos\n",
        "- Média Diária de Bugs Corrigidos\n",
        "- Total de Tarefas Concluídas\n",
        "- Média Diária de Tarefas Concluídas\n",
        "- Produtividade Diária (Tarefas Concluídas por Hora)\n",
        "\n",
        "# <font color = orange> **_COMO FAZER?_**\n",
        "#### Requisitos\n",
        "\n",
        "- Utilizar Jupyter Notebook ou Colab;\n",
        "- Realizar análise exploratória;\n",
        "- Responder cada uma das perguntas com a visualização mais adequada;\n",
        "- O notebook utilizado na análise deve estar organizado, com descrições do\n",
        "passo a passo da análise em markdown, apresentação dos resultados e\n",
        "insights gerados.\n",
        "\n",
        "___\n"
      ],
      "metadata": {
        "id": "Semc2kgoQAIk"
      }
    },
    {
      "cell_type": "code",
      "source": [
        "# Importando Bibliotecas\n",
        "\n",
        "import pandas as pd\n",
        "import matplotlib.pyplot as plt\n",
        "import seaborn as sns"
      ],
      "metadata": {
        "id": "UnUMfci0rrE4"
      },
      "execution_count": 95,
      "outputs": []
    },
    {
      "cell_type": "code",
      "source": [
        "# URL do arquivo CSV no GitHub\n",
        "url = 'https://raw.githubusercontent.com/julianapvh/projeto_individual_modulo_04/main/data/Relatorio.csv'"
      ],
      "metadata": {
        "id": "zx6Xl4RCrtVx"
      },
      "execution_count": 96,
      "outputs": []
    },
    {
      "cell_type": "code",
      "source": [
        "# Carregando o arquivo com os dados em um DataFrame\n",
        "dados = pd.read_csv(url)"
      ],
      "metadata": {
        "id": "jtFF-zVmPt3u"
      },
      "execution_count": 97,
      "outputs": []
    },
    {
      "cell_type": "code",
      "source": [
        "# Corrigindo o problema na coluna \"Dia\"\n",
        "dados[\"Dia\"] = dados[\"Dia\"].str.split().str[-1]"
      ],
      "metadata": {
        "id": "vS13JXHNTwe4"
      },
      "execution_count": 98,
      "outputs": []
    },
    {
      "cell_type": "code",
      "source": [
        "# Definindo a coluna \"Dia\" como índice do DataFrame\n",
        "dados.set_index(\"Dia\", inplace=True)"
      ],
      "metadata": {
        "id": "5VcUF9WGU3rL"
      },
      "execution_count": 99,
      "outputs": []
    },
    {
      "cell_type": "code",
      "source": [
        "# Exibindo as primeiras linhas do DataFrame\n",
        "df = pd.DataFrame(dados)\n",
        "df.head()"
      ],
      "metadata": {
        "colab": {
          "base_uri": "https://localhost:8080/",
          "height": 237
        },
        "id": "KwSDVOXDru4d",
        "outputId": "3df430bd-817e-49cc-fb0f-b2d196a7567c"
      },
      "execution_count": 100,
      "outputs": [
        {
          "output_type": "execute_result",
          "data": {
            "text/plain": [
              "         Horas Trabalhadas  Bugs Corrigidos  Tarefas Concluídas\n",
              "Dia                                                            \n",
              "segunda                  6                3                   5\n",
              "terça                    7                2                   4\n",
              "quarta                   8                1                   6\n",
              "quinta                   6                4                   4\n",
              "sexta                    7                3                   5"
            ],
            "text/html": [
              "\n",
              "\n",
              "  <div id=\"df-e12632b6-fb07-4545-80fd-aa5a4b52076e\">\n",
              "    <div class=\"colab-df-container\">\n",
              "      <div>\n",
              "<style scoped>\n",
              "    .dataframe tbody tr th:only-of-type {\n",
              "        vertical-align: middle;\n",
              "    }\n",
              "\n",
              "    .dataframe tbody tr th {\n",
              "        vertical-align: top;\n",
              "    }\n",
              "\n",
              "    .dataframe thead th {\n",
              "        text-align: right;\n",
              "    }\n",
              "</style>\n",
              "<table border=\"1\" class=\"dataframe\">\n",
              "  <thead>\n",
              "    <tr style=\"text-align: right;\">\n",
              "      <th></th>\n",
              "      <th>Horas Trabalhadas</th>\n",
              "      <th>Bugs Corrigidos</th>\n",
              "      <th>Tarefas Concluídas</th>\n",
              "    </tr>\n",
              "    <tr>\n",
              "      <th>Dia</th>\n",
              "      <th></th>\n",
              "      <th></th>\n",
              "      <th></th>\n",
              "    </tr>\n",
              "  </thead>\n",
              "  <tbody>\n",
              "    <tr>\n",
              "      <th>segunda</th>\n",
              "      <td>6</td>\n",
              "      <td>3</td>\n",
              "      <td>5</td>\n",
              "    </tr>\n",
              "    <tr>\n",
              "      <th>terça</th>\n",
              "      <td>7</td>\n",
              "      <td>2</td>\n",
              "      <td>4</td>\n",
              "    </tr>\n",
              "    <tr>\n",
              "      <th>quarta</th>\n",
              "      <td>8</td>\n",
              "      <td>1</td>\n",
              "      <td>6</td>\n",
              "    </tr>\n",
              "    <tr>\n",
              "      <th>quinta</th>\n",
              "      <td>6</td>\n",
              "      <td>4</td>\n",
              "      <td>4</td>\n",
              "    </tr>\n",
              "    <tr>\n",
              "      <th>sexta</th>\n",
              "      <td>7</td>\n",
              "      <td>3</td>\n",
              "      <td>5</td>\n",
              "    </tr>\n",
              "  </tbody>\n",
              "</table>\n",
              "</div>\n",
              "      <button class=\"colab-df-convert\" onclick=\"convertToInteractive('df-e12632b6-fb07-4545-80fd-aa5a4b52076e')\"\n",
              "              title=\"Convert this dataframe to an interactive table.\"\n",
              "              style=\"display:none;\">\n",
              "\n",
              "  <svg xmlns=\"http://www.w3.org/2000/svg\" height=\"24px\"viewBox=\"0 0 24 24\"\n",
              "       width=\"24px\">\n",
              "    <path d=\"M0 0h24v24H0V0z\" fill=\"none\"/>\n",
              "    <path d=\"M18.56 5.44l.94 2.06.94-2.06 2.06-.94-2.06-.94-.94-2.06-.94 2.06-2.06.94zm-11 1L8.5 8.5l.94-2.06 2.06-.94-2.06-.94L8.5 2.5l-.94 2.06-2.06.94zm10 10l.94 2.06.94-2.06 2.06-.94-2.06-.94-.94-2.06-.94 2.06-2.06.94z\"/><path d=\"M17.41 7.96l-1.37-1.37c-.4-.4-.92-.59-1.43-.59-.52 0-1.04.2-1.43.59L10.3 9.45l-7.72 7.72c-.78.78-.78 2.05 0 2.83L4 21.41c.39.39.9.59 1.41.59.51 0 1.02-.2 1.41-.59l7.78-7.78 2.81-2.81c.8-.78.8-2.07 0-2.86zM5.41 20L4 18.59l7.72-7.72 1.47 1.35L5.41 20z\"/>\n",
              "  </svg>\n",
              "      </button>\n",
              "\n",
              "\n",
              "\n",
              "    <div id=\"df-30d2c83c-1fd0-498a-a967-aa40f3059889\">\n",
              "      <button class=\"colab-df-quickchart\" onclick=\"quickchart('df-30d2c83c-1fd0-498a-a967-aa40f3059889')\"\n",
              "              title=\"Suggest charts.\"\n",
              "              style=\"display:none;\">\n",
              "\n",
              "<svg xmlns=\"http://www.w3.org/2000/svg\" height=\"24px\"viewBox=\"0 0 24 24\"\n",
              "     width=\"24px\">\n",
              "    <g>\n",
              "        <path d=\"M19 3H5c-1.1 0-2 .9-2 2v14c0 1.1.9 2 2 2h14c1.1 0 2-.9 2-2V5c0-1.1-.9-2-2-2zM9 17H7v-7h2v7zm4 0h-2V7h2v10zm4 0h-2v-4h2v4z\"/>\n",
              "    </g>\n",
              "</svg>\n",
              "      </button>\n",
              "    </div>\n",
              "\n",
              "<style>\n",
              "  .colab-df-quickchart {\n",
              "    background-color: #E8F0FE;\n",
              "    border: none;\n",
              "    border-radius: 50%;\n",
              "    cursor: pointer;\n",
              "    display: none;\n",
              "    fill: #1967D2;\n",
              "    height: 32px;\n",
              "    padding: 0 0 0 0;\n",
              "    width: 32px;\n",
              "  }\n",
              "\n",
              "  .colab-df-quickchart:hover {\n",
              "    background-color: #E2EBFA;\n",
              "    box-shadow: 0px 1px 2px rgba(60, 64, 67, 0.3), 0px 1px 3px 1px rgba(60, 64, 67, 0.15);\n",
              "    fill: #174EA6;\n",
              "  }\n",
              "\n",
              "  [theme=dark] .colab-df-quickchart {\n",
              "    background-color: #3B4455;\n",
              "    fill: #D2E3FC;\n",
              "  }\n",
              "\n",
              "  [theme=dark] .colab-df-quickchart:hover {\n",
              "    background-color: #434B5C;\n",
              "    box-shadow: 0px 1px 3px 1px rgba(0, 0, 0, 0.15);\n",
              "    filter: drop-shadow(0px 1px 2px rgba(0, 0, 0, 0.3));\n",
              "    fill: #FFFFFF;\n",
              "  }\n",
              "</style>\n",
              "\n",
              "    <script>\n",
              "      async function quickchart(key) {\n",
              "        const containerElement = document.querySelector('#' + key);\n",
              "        const charts = await google.colab.kernel.invokeFunction(\n",
              "            'suggestCharts', [key], {});\n",
              "      }\n",
              "    </script>\n",
              "\n",
              "      <script>\n",
              "\n",
              "function displayQuickchartButton(domScope) {\n",
              "  let quickchartButtonEl =\n",
              "    domScope.querySelector('#df-30d2c83c-1fd0-498a-a967-aa40f3059889 button.colab-df-quickchart');\n",
              "  quickchartButtonEl.style.display =\n",
              "    google.colab.kernel.accessAllowed ? 'block' : 'none';\n",
              "}\n",
              "\n",
              "        displayQuickchartButton(document);\n",
              "      </script>\n",
              "      <style>\n",
              "    .colab-df-container {\n",
              "      display:flex;\n",
              "      flex-wrap:wrap;\n",
              "      gap: 12px;\n",
              "    }\n",
              "\n",
              "    .colab-df-convert {\n",
              "      background-color: #E8F0FE;\n",
              "      border: none;\n",
              "      border-radius: 50%;\n",
              "      cursor: pointer;\n",
              "      display: none;\n",
              "      fill: #1967D2;\n",
              "      height: 32px;\n",
              "      padding: 0 0 0 0;\n",
              "      width: 32px;\n",
              "    }\n",
              "\n",
              "    .colab-df-convert:hover {\n",
              "      background-color: #E2EBFA;\n",
              "      box-shadow: 0px 1px 2px rgba(60, 64, 67, 0.3), 0px 1px 3px 1px rgba(60, 64, 67, 0.15);\n",
              "      fill: #174EA6;\n",
              "    }\n",
              "\n",
              "    [theme=dark] .colab-df-convert {\n",
              "      background-color: #3B4455;\n",
              "      fill: #D2E3FC;\n",
              "    }\n",
              "\n",
              "    [theme=dark] .colab-df-convert:hover {\n",
              "      background-color: #434B5C;\n",
              "      box-shadow: 0px 1px 3px 1px rgba(0, 0, 0, 0.15);\n",
              "      filter: drop-shadow(0px 1px 2px rgba(0, 0, 0, 0.3));\n",
              "      fill: #FFFFFF;\n",
              "    }\n",
              "  </style>\n",
              "\n",
              "      <script>\n",
              "        const buttonEl =\n",
              "          document.querySelector('#df-e12632b6-fb07-4545-80fd-aa5a4b52076e button.colab-df-convert');\n",
              "        buttonEl.style.display =\n",
              "          google.colab.kernel.accessAllowed ? 'block' : 'none';\n",
              "\n",
              "        async function convertToInteractive(key) {\n",
              "          const element = document.querySelector('#df-e12632b6-fb07-4545-80fd-aa5a4b52076e');\n",
              "          const dataTable =\n",
              "            await google.colab.kernel.invokeFunction('convertToInteractive',\n",
              "                                                     [key], {});\n",
              "          if (!dataTable) return;\n",
              "\n",
              "          const docLinkHtml = 'Like what you see? Visit the ' +\n",
              "            '<a target=\"_blank\" href=https://colab.research.google.com/notebooks/data_table.ipynb>data table notebook</a>'\n",
              "            + ' to learn more about interactive tables.';\n",
              "          element.innerHTML = '';\n",
              "          dataTable['output_type'] = 'display_data';\n",
              "          await google.colab.output.renderOutput(dataTable, element);\n",
              "          const docLink = document.createElement('div');\n",
              "          docLink.innerHTML = docLinkHtml;\n",
              "          element.appendChild(docLink);\n",
              "        }\n",
              "      </script>\n",
              "    </div>\n",
              "  </div>\n"
            ]
          },
          "metadata": {},
          "execution_count": 100
        }
      ]
    },
    {
      "cell_type": "code",
      "source": [
        "# Informações\n",
        "print(\"Informações sobre o dataset:\")\n",
        "dados.info()"
      ],
      "metadata": {
        "colab": {
          "base_uri": "https://localhost:8080/"
        },
        "id": "2JeUwJ_IrwIJ",
        "outputId": "93e4a8ea-1251-48d0-fad1-0b01a27924ba"
      },
      "execution_count": 101,
      "outputs": [
        {
          "output_type": "stream",
          "name": "stdout",
          "text": [
            "Informações sobre o dataset:\n",
            "<class 'pandas.core.frame.DataFrame'>\n",
            "Index: 7 entries, segunda to domingo\n",
            "Data columns (total 3 columns):\n",
            " #   Column              Non-Null Count  Dtype\n",
            "---  ------              --------------  -----\n",
            " 0   Horas Trabalhadas   7 non-null      int64\n",
            " 1   Bugs Corrigidos     7 non-null      int64\n",
            " 2   Tarefas Concluídas  7 non-null      int64\n",
            "dtypes: int64(3)\n",
            "memory usage: 224.0+ bytes\n"
          ]
        }
      ]
    },
    {
      "cell_type": "code",
      "source": [
        "# Resumo estatístico do dataset\n",
        "print(\"Resumo estatístico:\")\n",
        "dados.describe()"
      ],
      "metadata": {
        "colab": {
          "base_uri": "https://localhost:8080/",
          "height": 319
        },
        "id": "XFGObVrurx4Z",
        "outputId": "af97b1e7-9105-40e1-dd1f-fef4c27a51b8"
      },
      "execution_count": 102,
      "outputs": [
        {
          "output_type": "stream",
          "name": "stdout",
          "text": [
            "Resumo estatístico:\n"
          ]
        },
        {
          "output_type": "execute_result",
          "data": {
            "text/plain": [
              "       Horas Trabalhadas  Bugs Corrigidos  Tarefas Concluídas\n",
              "count           7.000000         7.000000            7.000000\n",
              "mean            6.142857         2.285714            4.142857\n",
              "std             1.345185         1.112697            1.345185\n",
              "min             4.000000         1.000000            2.000000\n",
              "25%             5.500000         1.500000            3.500000\n",
              "50%             6.000000         2.000000            4.000000\n",
              "75%             7.000000         3.000000            5.000000\n",
              "max             8.000000         4.000000            6.000000"
            ],
            "text/html": [
              "\n",
              "\n",
              "  <div id=\"df-7f212756-11db-4767-a89a-f1d543a79844\">\n",
              "    <div class=\"colab-df-container\">\n",
              "      <div>\n",
              "<style scoped>\n",
              "    .dataframe tbody tr th:only-of-type {\n",
              "        vertical-align: middle;\n",
              "    }\n",
              "\n",
              "    .dataframe tbody tr th {\n",
              "        vertical-align: top;\n",
              "    }\n",
              "\n",
              "    .dataframe thead th {\n",
              "        text-align: right;\n",
              "    }\n",
              "</style>\n",
              "<table border=\"1\" class=\"dataframe\">\n",
              "  <thead>\n",
              "    <tr style=\"text-align: right;\">\n",
              "      <th></th>\n",
              "      <th>Horas Trabalhadas</th>\n",
              "      <th>Bugs Corrigidos</th>\n",
              "      <th>Tarefas Concluídas</th>\n",
              "    </tr>\n",
              "  </thead>\n",
              "  <tbody>\n",
              "    <tr>\n",
              "      <th>count</th>\n",
              "      <td>7.000000</td>\n",
              "      <td>7.000000</td>\n",
              "      <td>7.000000</td>\n",
              "    </tr>\n",
              "    <tr>\n",
              "      <th>mean</th>\n",
              "      <td>6.142857</td>\n",
              "      <td>2.285714</td>\n",
              "      <td>4.142857</td>\n",
              "    </tr>\n",
              "    <tr>\n",
              "      <th>std</th>\n",
              "      <td>1.345185</td>\n",
              "      <td>1.112697</td>\n",
              "      <td>1.345185</td>\n",
              "    </tr>\n",
              "    <tr>\n",
              "      <th>min</th>\n",
              "      <td>4.000000</td>\n",
              "      <td>1.000000</td>\n",
              "      <td>2.000000</td>\n",
              "    </tr>\n",
              "    <tr>\n",
              "      <th>25%</th>\n",
              "      <td>5.500000</td>\n",
              "      <td>1.500000</td>\n",
              "      <td>3.500000</td>\n",
              "    </tr>\n",
              "    <tr>\n",
              "      <th>50%</th>\n",
              "      <td>6.000000</td>\n",
              "      <td>2.000000</td>\n",
              "      <td>4.000000</td>\n",
              "    </tr>\n",
              "    <tr>\n",
              "      <th>75%</th>\n",
              "      <td>7.000000</td>\n",
              "      <td>3.000000</td>\n",
              "      <td>5.000000</td>\n",
              "    </tr>\n",
              "    <tr>\n",
              "      <th>max</th>\n",
              "      <td>8.000000</td>\n",
              "      <td>4.000000</td>\n",
              "      <td>6.000000</td>\n",
              "    </tr>\n",
              "  </tbody>\n",
              "</table>\n",
              "</div>\n",
              "      <button class=\"colab-df-convert\" onclick=\"convertToInteractive('df-7f212756-11db-4767-a89a-f1d543a79844')\"\n",
              "              title=\"Convert this dataframe to an interactive table.\"\n",
              "              style=\"display:none;\">\n",
              "\n",
              "  <svg xmlns=\"http://www.w3.org/2000/svg\" height=\"24px\"viewBox=\"0 0 24 24\"\n",
              "       width=\"24px\">\n",
              "    <path d=\"M0 0h24v24H0V0z\" fill=\"none\"/>\n",
              "    <path d=\"M18.56 5.44l.94 2.06.94-2.06 2.06-.94-2.06-.94-.94-2.06-.94 2.06-2.06.94zm-11 1L8.5 8.5l.94-2.06 2.06-.94-2.06-.94L8.5 2.5l-.94 2.06-2.06.94zm10 10l.94 2.06.94-2.06 2.06-.94-2.06-.94-.94-2.06-.94 2.06-2.06.94z\"/><path d=\"M17.41 7.96l-1.37-1.37c-.4-.4-.92-.59-1.43-.59-.52 0-1.04.2-1.43.59L10.3 9.45l-7.72 7.72c-.78.78-.78 2.05 0 2.83L4 21.41c.39.39.9.59 1.41.59.51 0 1.02-.2 1.41-.59l7.78-7.78 2.81-2.81c.8-.78.8-2.07 0-2.86zM5.41 20L4 18.59l7.72-7.72 1.47 1.35L5.41 20z\"/>\n",
              "  </svg>\n",
              "      </button>\n",
              "\n",
              "\n",
              "\n",
              "    <div id=\"df-e7172eae-65e3-42f3-a80e-e73686ebb806\">\n",
              "      <button class=\"colab-df-quickchart\" onclick=\"quickchart('df-e7172eae-65e3-42f3-a80e-e73686ebb806')\"\n",
              "              title=\"Suggest charts.\"\n",
              "              style=\"display:none;\">\n",
              "\n",
              "<svg xmlns=\"http://www.w3.org/2000/svg\" height=\"24px\"viewBox=\"0 0 24 24\"\n",
              "     width=\"24px\">\n",
              "    <g>\n",
              "        <path d=\"M19 3H5c-1.1 0-2 .9-2 2v14c0 1.1.9 2 2 2h14c1.1 0 2-.9 2-2V5c0-1.1-.9-2-2-2zM9 17H7v-7h2v7zm4 0h-2V7h2v10zm4 0h-2v-4h2v4z\"/>\n",
              "    </g>\n",
              "</svg>\n",
              "      </button>\n",
              "    </div>\n",
              "\n",
              "<style>\n",
              "  .colab-df-quickchart {\n",
              "    background-color: #E8F0FE;\n",
              "    border: none;\n",
              "    border-radius: 50%;\n",
              "    cursor: pointer;\n",
              "    display: none;\n",
              "    fill: #1967D2;\n",
              "    height: 32px;\n",
              "    padding: 0 0 0 0;\n",
              "    width: 32px;\n",
              "  }\n",
              "\n",
              "  .colab-df-quickchart:hover {\n",
              "    background-color: #E2EBFA;\n",
              "    box-shadow: 0px 1px 2px rgba(60, 64, 67, 0.3), 0px 1px 3px 1px rgba(60, 64, 67, 0.15);\n",
              "    fill: #174EA6;\n",
              "  }\n",
              "\n",
              "  [theme=dark] .colab-df-quickchart {\n",
              "    background-color: #3B4455;\n",
              "    fill: #D2E3FC;\n",
              "  }\n",
              "\n",
              "  [theme=dark] .colab-df-quickchart:hover {\n",
              "    background-color: #434B5C;\n",
              "    box-shadow: 0px 1px 3px 1px rgba(0, 0, 0, 0.15);\n",
              "    filter: drop-shadow(0px 1px 2px rgba(0, 0, 0, 0.3));\n",
              "    fill: #FFFFFF;\n",
              "  }\n",
              "</style>\n",
              "\n",
              "    <script>\n",
              "      async function quickchart(key) {\n",
              "        const containerElement = document.querySelector('#' + key);\n",
              "        const charts = await google.colab.kernel.invokeFunction(\n",
              "            'suggestCharts', [key], {});\n",
              "      }\n",
              "    </script>\n",
              "\n",
              "      <script>\n",
              "\n",
              "function displayQuickchartButton(domScope) {\n",
              "  let quickchartButtonEl =\n",
              "    domScope.querySelector('#df-e7172eae-65e3-42f3-a80e-e73686ebb806 button.colab-df-quickchart');\n",
              "  quickchartButtonEl.style.display =\n",
              "    google.colab.kernel.accessAllowed ? 'block' : 'none';\n",
              "}\n",
              "\n",
              "        displayQuickchartButton(document);\n",
              "      </script>\n",
              "      <style>\n",
              "    .colab-df-container {\n",
              "      display:flex;\n",
              "      flex-wrap:wrap;\n",
              "      gap: 12px;\n",
              "    }\n",
              "\n",
              "    .colab-df-convert {\n",
              "      background-color: #E8F0FE;\n",
              "      border: none;\n",
              "      border-radius: 50%;\n",
              "      cursor: pointer;\n",
              "      display: none;\n",
              "      fill: #1967D2;\n",
              "      height: 32px;\n",
              "      padding: 0 0 0 0;\n",
              "      width: 32px;\n",
              "    }\n",
              "\n",
              "    .colab-df-convert:hover {\n",
              "      background-color: #E2EBFA;\n",
              "      box-shadow: 0px 1px 2px rgba(60, 64, 67, 0.3), 0px 1px 3px 1px rgba(60, 64, 67, 0.15);\n",
              "      fill: #174EA6;\n",
              "    }\n",
              "\n",
              "    [theme=dark] .colab-df-convert {\n",
              "      background-color: #3B4455;\n",
              "      fill: #D2E3FC;\n",
              "    }\n",
              "\n",
              "    [theme=dark] .colab-df-convert:hover {\n",
              "      background-color: #434B5C;\n",
              "      box-shadow: 0px 1px 3px 1px rgba(0, 0, 0, 0.15);\n",
              "      filter: drop-shadow(0px 1px 2px rgba(0, 0, 0, 0.3));\n",
              "      fill: #FFFFFF;\n",
              "    }\n",
              "  </style>\n",
              "\n",
              "      <script>\n",
              "        const buttonEl =\n",
              "          document.querySelector('#df-7f212756-11db-4767-a89a-f1d543a79844 button.colab-df-convert');\n",
              "        buttonEl.style.display =\n",
              "          google.colab.kernel.accessAllowed ? 'block' : 'none';\n",
              "\n",
              "        async function convertToInteractive(key) {\n",
              "          const element = document.querySelector('#df-7f212756-11db-4767-a89a-f1d543a79844');\n",
              "          const dataTable =\n",
              "            await google.colab.kernel.invokeFunction('convertToInteractive',\n",
              "                                                     [key], {});\n",
              "          if (!dataTable) return;\n",
              "\n",
              "          const docLinkHtml = 'Like what you see? Visit the ' +\n",
              "            '<a target=\"_blank\" href=https://colab.research.google.com/notebooks/data_table.ipynb>data table notebook</a>'\n",
              "            + ' to learn more about interactive tables.';\n",
              "          element.innerHTML = '';\n",
              "          dataTable['output_type'] = 'display_data';\n",
              "          await google.colab.output.renderOutput(dataTable, element);\n",
              "          const docLink = document.createElement('div');\n",
              "          docLink.innerHTML = docLinkHtml;\n",
              "          element.appendChild(docLink);\n",
              "        }\n",
              "      </script>\n",
              "    </div>\n",
              "  </div>\n"
            ]
          },
          "metadata": {},
          "execution_count": 102
        }
      ]
    },
    {
      "cell_type": "code",
      "source": [
        "# Visualizar gráfico de barras para as Horas Trabalhadas\n",
        "plt.figure(figsize=(8, 6))\n",
        "sns.barplot(data=dados, x=dados.index, y=\"Horas Trabalhadas\")\n",
        "plt.title(\"Total de horas trabalhadas por dia\")\n",
        "plt.xlabel(\"Dia\")\n",
        "plt.ylabel(\"Total de horas trabalhadas\")\n",
        "plt.xticks(rotation=45)  # Rotaciona os rótulos dos dias para melhor visualização\n",
        "plt.show()"
      ],
      "metadata": {
        "colab": {
          "base_uri": "https://localhost:8080/",
          "height": 603
        },
        "id": "bLyCd2FLr0WC",
        "outputId": "6ef4e1aa-4ccb-417a-9cc9-3f1319004ab3"
      },
      "execution_count": 103,
      "outputs": [
        {
          "output_type": "display_data",
          "data": {
            "text/plain": [
              "<Figure size 800x600 with 1 Axes>"
            ],
            "image/png": "[encoded data removed]"
          },
          "metadata": {}
        }
      ]
    },
    {
      "cell_type": "code",
      "source": [
        "# Visualizar gráfico de barras para os Bugs Corrigidos\n",
        "plt.figure(figsize=(8, 6))\n",
        "sns.barplot(x=dados.index, y=\"Bugs Corrigidos\", data=dados)\n",
        "plt.title(\"Bugs Corrigidos por Dia\")\n",
        "plt.xlabel(\"Dia\")\n",
        "plt.ylabel(\"Bugs Corrigidos\")\n",
        "plt.xticks(rotation=45)\n",
        "plt.show()\n"
      ],
      "metadata": {
        "colab": {
          "base_uri": "https://localhost:8080/",
          "height": 603
        },
        "id": "uDke5FRVIjNm",
        "outputId": "96a8e06e-d426-4612-f63f-ccc43fac4b96"
      },
      "execution_count": 104,
      "outputs": [
        {
          "output_type": "display_data",
          "data": {
            "text/plain": [
              "<Figure size 800x600 with 1 Axes>"
            ],
            "image/png": "[encoded data removed]"
          },
          "metadata": {}
        }
      ]
    },
    {
      "cell_type": "code",
      "source": [
        "# Visualizar gráfico de barras para as Tarefas Concluídas\n",
        "plt.figure(figsize=(8, 6))\n",
        "sns.barplot(x=dados.index, y=\"Tarefas Concluídas\", data=dados)\n",
        "plt.title(\"Tarefas Concluídas por Dia\")\n",
        "plt.xlabel(\"Dia\")\n",
        "plt.ylabel(\"Tarefas Concluídas\")\n",
        "plt.xticks(rotation=45)\n",
        "plt.show()"
      ],
      "metadata": {
        "colab": {
          "base_uri": "https://localhost:8080/",
          "height": 604
        },
        "id": "MwQff3NDIplO",
        "outputId": "ec7a16fe-2ed7-4010-a8ca-bef66cf47668"
      },
      "execution_count": 105,
      "outputs": [
        {
          "output_type": "display_data",
          "data": {
            "text/plain": [
              "<Figure size 800x600 with 1 Axes>"
            ],
            "image/png": "[encoded data removed]"
          },
          "metadata": {}
        }
      ]
    },
    {
      "cell_type": "code",
      "source": [
        "# Cálculo das métricas\n",
        "total_horas_trabalhadas = dados['Horas Trabalhadas'].sum()\n",
        "media_horas_trabalhadas = dados[\"Horas Trabalhadas\"].mean()\n",
        "\n",
        "total_bugs_corrigidos = dados['Bugs Corrigidos'].sum()\n",
        "media_bugs_corrigidos = dados['Bugs Corrigidos'].mean()\n",
        "\n",
        "total_tarefas_concluidas = dados['Tarefas Concluídas'].sum()\n",
        "media_tarefas_concluidas = dados['Tarefas Concluídas'].mean()\n",
        "\n",
        "dados['Produtividade'] = dados['Tarefas Concluídas'] / dados['Horas Trabalhadas']\n",
        "media_produtividade = dados['Produtividade'].mean()"
      ],
      "metadata": {
        "id": "2dMmdd9SQqPi"
      },
      "execution_count": 106,
      "outputs": []
    },
    {
      "cell_type": "code",
      "source": [
        "# Imprimir Resultados\n",
        "print(\"Análise e Interpretação dos Resultados:\")\n",
        "print(f\"- Total de horas trabalhadas durante a semana: {total_horas_trabalhadas} horas\")\n",
        "print(f\"- Média diária de horas trabalhadas: {media_horas_trabalhadas:.2f} horas por dia\")\n",
        "print(f\"- Total de Bugs Corrigidos: {total_bugs_corrigidos}\")\n",
        "print(f\"- Média Diária de Bugs Corrigidos: {media_bugs_corrigidos:.2f} bugs por dia\")\n",
        "print(f\"- Total de Tarefas Concluídas: {total_tarefas_concluidas}\")\n",
        "print(f\"- Média Diária de Tarefas Concluídas: {media_tarefas_concluidas:.2f} tarefas por dia\")\n",
        "print(f\"- Produtividade Diária (Tarefas Concluídas por Hora): {media_produtividade:.2f} tarefas por hora\")"
      ],
      "metadata": {
        "colab": {
          "base_uri": "https://localhost:8080/"
        },
        "id": "kVqqO1xfQwM6",
        "outputId": "f8f046f6-f8bf-4004-eb07-fbe5426b0f0a"
      },
      "execution_count": 107,
      "outputs": [
        {
          "output_type": "stream",
          "name": "stdout",
          "text": [
            "Análise e Interpretação dos Resultados:\n",
            "- Total de horas trabalhadas durante a semana: 43 horas\n",
            "- Média diária de horas trabalhadas: 6.14 horas por dia\n",
            "- Total de Bugs Corrigidos: 16\n",
            "- Média Diária de Bugs Corrigidos: 2.29 bugs por dia\n",
            "- Total de Tarefas Concluídas: 29\n",
            "- Média Diária de Tarefas Concluídas: 4.14 tarefas por dia\n",
            "- Produtividade Diária (Tarefas Concluídas por Hora): 0.66 tarefas por hora\n"
          ]
        }
      ]
    },
    {
      "cell_type": "markdown",
      "source": [
        "# Análise e Interpretação dos Resultados:\n",
        "\n",
        "## Total de Horas Trabalhadas e Média Diária:\n",
        "\n",
        "O total de horas trabalhadas durante a semana foi de **43 horas**, com uma **média diária de aproximadamente 6.14 horas por dia**. Essa média sugere que a equipe de desenvolvimento segue uma jornada de trabalho regular de 6 horas por dia.\n",
        "\n",
        "## Total de Bugs Corrigidos e Média Diária:\n",
        "\n",
        "Foram corrigidos um total de **16 bugs** ao longo da semana, com uma **média diária de 2.29 bugs por dia**. Essa média pode fornecer indícios sobre a complexidade e quantidade de problemas encontrados durante o desenvolvimento dos softwares.\n",
        "\n",
        "## Total de Tarefas Concluídas e Média Diária:\n",
        "\n",
        "Um total de **29 tarefas** foram concluídas durante a semana, com uma **média de aproximadamente 4.14 tarefas concluídas por dia**. Isso pode fornecer insights sobre a produtividade da equipe e a capacidade de concluir tarefas diariamente.\n",
        "\n",
        "## Produtividade Diária:\n",
        "\n",
        "A **produtividade diária**, medida pelo número de tarefas concluídas por hora trabalhada, foi de **aproximadamente 0.66 tarefas por hora**. Essa métrica pode indicar a eficiência da equipe em realizar tarefas no tempo disponível.\n"
      ],
      "metadata": {
        "id": "qJcexHCrbVYT"
      }
    },
    {
      "cell_type": "markdown",
      "source": [
        "# <font color = orange> **_Respondendo as Perguntas_**"
      ],
      "metadata": {
        "id": "aCddfjlOTBMN"
      }
    },
    {
      "cell_type": "markdown",
      "source": [
        "- <font color = green>Total de Horas Trabalhadas"
      ],
      "metadata": {
        "id": "mBjRnmi6Tb1T"
      }
    },
    {
      "cell_type": "code",
      "source": [
        "total_horas_trabalhadas = dados['Horas Trabalhadas'].sum()\n",
        "print(f\"Total de horas trabalhadas durante a semana: {total_horas_trabalhadas} horas\")\n"
      ],
      "metadata": {
        "colab": {
          "base_uri": "https://localhost:8080/"
        },
        "id": "QwnMRR4WPOpg",
        "outputId": "9973e6c6-cb46-4715-fbf3-03dd2cef88b5"
      },
      "execution_count": 108,
      "outputs": [
        {
          "output_type": "stream",
          "name": "stdout",
          "text": [
            "Total de horas trabalhadas durante a semana: 43 horas\n"
          ]
        }
      ]
    },
    {
      "cell_type": "markdown",
      "source": [
        "- <font color = green> Média Diária de Horas Trabalhadas"
      ],
      "metadata": {
        "id": "svF7eC6FTfSO"
      }
    },
    {
      "cell_type": "code",
      "source": [
        "media_horas_trabalhadas = dados[\"Horas Trabalhadas\"].mean()\n",
        "print(f\"Média diária de horas trabalhadas: {media_horas_trabalhadas:.2f} horas por dia\")"
      ],
      "metadata": {
        "colab": {
          "base_uri": "https://localhost:8080/"
        },
        "id": "4to_uMeIPUB_",
        "outputId": "4ffa9cb3-4d15-4898-f58c-487aab95fc8a"
      },
      "execution_count": 109,
      "outputs": [
        {
          "output_type": "stream",
          "name": "stdout",
          "text": [
            "Média diária de horas trabalhadas: 6.14 horas por dia\n"
          ]
        }
      ]
    },
    {
      "cell_type": "markdown",
      "source": [
        "- <font color = green> Total de Bugs Corrigidos"
      ],
      "metadata": {
        "id": "dNPTKz84TiWH"
      }
    },
    {
      "cell_type": "code",
      "source": [
        "total_bugs_corrigidos = dados['Bugs Corrigidos'].sum()\n",
        "print(f\"Total de Bugs Corrigidos: {total_bugs_corrigidos}\")"
      ],
      "metadata": {
        "colab": {
          "base_uri": "https://localhost:8080/"
        },
        "id": "6rc4H-GsTiyS",
        "outputId": "5516f9c0-8431-4c2d-c614-6b73c0e5c6f5"
      },
      "execution_count": 110,
      "outputs": [
        {
          "output_type": "stream",
          "name": "stdout",
          "text": [
            "Total de Bugs Corrigidos: 16\n"
          ]
        }
      ]
    },
    {
      "cell_type": "markdown",
      "source": [
        "- <font color = green> Média Diária de Bugs Corrigidos"
      ],
      "metadata": {
        "id": "PJvOnxDlTjA4"
      }
    },
    {
      "cell_type": "code",
      "source": [
        "media_bugs_corrigidos = dados['Bugs Corrigidos'].mean()\n",
        "print(f\"Média Diária de Bugs Corrigidos: {media_bugs_corrigidos:.2f} bugs por dia\")"
      ],
      "metadata": {
        "colab": {
          "base_uri": "https://localhost:8080/"
        },
        "id": "GkMswVGoTjKU",
        "outputId": "aff25af2-0217-4a04-ee87-c92ac0545bb0"
      },
      "execution_count": 111,
      "outputs": [
        {
          "output_type": "stream",
          "name": "stdout",
          "text": [
            "Média Diária de Bugs Corrigidos: 2.29 bugs por dia\n"
          ]
        }
      ]
    },
    {
      "cell_type": "markdown",
      "source": [
        "- <font color = green> Total de Tarefas Concluídas"
      ],
      "metadata": {
        "id": "kLT0OmM2TnRp"
      }
    },
    {
      "cell_type": "code",
      "source": [
        "total_tarefas_concluidas = dados['Tarefas Concluídas'].sum()\n",
        "print(f\"Total de Tarefas Concluídas: {total_tarefas_concluidas}\")"
      ],
      "metadata": {
        "colab": {
          "base_uri": "https://localhost:8080/"
        },
        "id": "mblzs4gxTp3r",
        "outputId": "d3bcbc17-f437-4448-dbf0-8fba9ec6e8b2"
      },
      "execution_count": 112,
      "outputs": [
        {
          "output_type": "stream",
          "name": "stdout",
          "text": [
            "Total de Tarefas Concluídas: 29\n"
          ]
        }
      ]
    },
    {
      "cell_type": "markdown",
      "source": [
        "- <font color = green> Média Diária de Tarefas Concluídas"
      ],
      "metadata": {
        "id": "MyUwqN6mTqGw"
      }
    },
    {
      "cell_type": "code",
      "source": [
        "media_tarefas_concluidas = dados['Tarefas Concluídas'].mean()\n",
        "print(f\"Média Diária de Tarefas Concluídas: {media_tarefas_concluidas:.2f} tarefas por dia\")"
      ],
      "metadata": {
        "colab": {
          "base_uri": "https://localhost:8080/"
        },
        "id": "lmydypv3Trxr",
        "outputId": "a38c6228-2363-4943-b3c3-c9c126e9afb0"
      },
      "execution_count": 113,
      "outputs": [
        {
          "output_type": "stream",
          "name": "stdout",
          "text": [
            "Média Diária de Tarefas Concluídas: 4.14 tarefas por dia\n"
          ]
        }
      ]
    },
    {
      "cell_type": "markdown",
      "source": [
        "- <font color = green> Produtividade Diária (Tarefas Concluídas por Hora)"
      ],
      "metadata": {
        "id": "hPEiYfVaTr6j"
      }
    },
    {
      "cell_type": "code",
      "source": [
        "dados['Produtividade'] = dados['Tarefas Concluídas'] / dados['Horas Trabalhadas']\n",
        "media_produtividade = dados['Produtividade'].mean()\n",
        "print(f\"Produtividade Diária (Tarefas Concluídas por Hora): {media_produtividade:.2f} tarefas por hora\")"
      ],
      "metadata": {
        "colab": {
          "base_uri": "https://localhost:8080/"
        },
        "id": "bvbIgBY2UjdB",
        "outputId": "94d3240f-86fc-49ed-8cd9-fa77c5ab1a0b"
      },
      "execution_count": 114,
      "outputs": [
        {
          "output_type": "stream",
          "name": "stdout",
          "text": [
            "Produtividade Diária (Tarefas Concluídas por Hora): 0.66 tarefas por hora\n"
          ]
        }
      ]
    }
  ]
}